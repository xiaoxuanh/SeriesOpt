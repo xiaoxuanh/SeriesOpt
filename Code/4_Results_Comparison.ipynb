{
 "cells": [
  {
   "cell_type": "code",
   "execution_count": 1,
   "id": "a1cd0ee1",
   "metadata": {},
   "outputs": [],
   "source": [
    "import numpy as np\n",
    "import pandas as pd\n",
    "import os\n",
    "import matplotlib.pyplot as plt\n",
    "import pickle\n",
    "import seaborn as sns"
   ]
  },
  {
   "cell_type": "code",
   "execution_count": 2,
   "id": "554daee9",
   "metadata": {},
   "outputs": [],
   "source": [
    "wd = os.getcwd()"
   ]
  },
  {
   "cell_type": "markdown",
   "metadata": {},
   "source": [
    "# Define Functions"
   ]
  },
  {
   "cell_type": "code",
   "execution_count": 3,
   "id": "93532205",
   "metadata": {},
   "outputs": [],
   "source": [
    "class RunResult:\n",
    "    \"\"\"\n",
    "    Results files in order:\n",
    "    Forward-looking horizon: int\n",
    "    actions: n by 4 dataframe\n",
    "    storage levels: n by 1 series\n",
    "    profit: n by 1 series\n",
    "    price: n by 1 series, true prices\n",
    "    shape: n by 1 series, true shape\n",
    "    total_profit: sum of profit\n",
    "    \"\"\" \n",
    "    def __init__(self, gb, bg, b, profits, price, day_index):\n",
    "        self.charging = gb\n",
    "        self.discharging = bg\n",
    "        self.storage_levels = b\n",
    "        self.profit = profits\n",
    "        self.price = price\n",
    "        self.total_profit = sum(profits)\n",
    "        self.day_index = day_index\n",
    "\n",
    "    def plot_states_actions(self, start=None, hourrange=None):\n",
    "        \"\"\"\n",
    "        if start = hourrange = None, plot all series; otherwise a slice of the data\n",
    "        \"\"\"\n",
    "        if start == hourrange == None:\n",
    "            hourrange = len(self.storage_levels)\n",
    "            start = 0\n",
    "\n",
    "        hr = range(0, start + hourrange)\n",
    "\n",
    "        # price, profit, storage level, solar gen\n",
    "        sns.reset_orig()\n",
    "\n",
    "        fig, ax1 = plt.subplots(figsize=(16, 8))\n",
    "\n",
    "        ax1.plot(hr, self.price[start:start + hourrange], label=\"price\", color='blue')\n",
    "\n",
    "        ax2 = ax1.twinx()\n",
    "        ax2.plot(hr, self.storage_levels[start:start + hourrange], label=\"storage level\", color='g')\n",
    "\n",
    "        ax1.set_xlabel('Hour')\n",
    "        ax1.set_ylabel('price')\n",
    "        ax2.set_ylabel('storage level')\n",
    "\n",
    "        ax1.legend(loc='upper left')\n",
    "        ax2.legend(loc='upper right')\n",
    "        ax1.grid('both', axis='both', color='grey', linestyle=\"--\")\n",
    "        plt.xticks(np.arange(0, hourrange, 10))\n",
    "\n",
    "        plt.show()\n",
    "\n",
    "        print(\"Total profit: ${0:.2f}\".format(self.total_profit))\n",
    "\n",
    "        # actions\n",
    "        colormap = ['violet', 'darkviolet']\n",
    "\n",
    "        fig, ax = plt.subplots(figsize=(16, 8))\n",
    "        ax.stackplot(hr, -self.discharging, self.charging, labels=['discharging', 'charging'], colors=colormap)\n",
    "        ax.set_xlabel('Hour')\n",
    "        ax.set_ylabel('storage operation decisions')\n",
    "        ax.legend()\n",
    "        ax.grid('both', axis='both', color='grey', linestyle=\"--\")\n",
    "        plt.xticks(np.arange(0, hourrange, 5))\n",
    "        plt.show()\n",
    "        \n",
    "def translate_results(raw_results):\n",
    "    \"\"\"\n",
    "    function to translate raw results into RunResult classes\n",
    "    \"\"\"\n",
    "    translated_results = []\n",
    "    for i, result in enumerate(raw_results):\n",
    "        try:\n",
    "            rr = RunResult(*result[0],result[1])\n",
    "            translated_results.append(rr)\n",
    "        except:\n",
    "            print(f\"Error occurred in run {i}.\")\n",
    "    \n",
    "    return translated_results"
   ]
  },
  {
   "cell_type": "code",
   "execution_count": 4,
   "id": "86cef319",
   "metadata": {},
   "outputs": [],
   "source": [
    "# Compare results between models\n",
    "def results_comparison(name_1, results_1, name_2, results_2):\n",
    "    # Match DP and MPC results based on day_index\n",
    "    rslt1_dict = {rr.day_index: rr.total_profit for rr in results_1}\n",
    "    rslt2_dict = {rr.day_index: rr.total_profit for rr in results_2}\n",
    "    matched_indices = set(rslt1_dict.keys()) & set(rslt2_dict.keys())\n",
    "    \n",
    "    matched_rslt1_profits = [rslt1_dict[idx] for idx in matched_indices]\n",
    "    matched_rslt2_profits = [rslt2_dict[idx] for idx in matched_indices]\n",
    "    \n",
    "    # Calculate average profits for matched cases\n",
    "    rslt1_avg = np.mean(matched_rslt1_profits)\n",
    "    rslt2_avg = np.mean(matched_rslt2_profits)\n",
    "    \n",
    "    print(f\"Average profit for {name_1}: ${rslt1_avg:.2f}\")\n",
    "    print(f\"Average profit for {name_2}: ${rslt2_avg:.2f}\")\n",
    "\n",
    "    # Scatter plot of profits for matched cases\n",
    "    plt.scatter(matched_rslt1_profits, matched_rslt2_profits)\n",
    "    plt.xlabel(f\"Matched {name_1} profits\")\n",
    "    plt.ylabel(f\"Matched {name_2} profits\")\n",
    "    plt.title(f\"Scatter Plot of Matched {name_1} and {name_2} Profits\")\n",
    "    # add the 45 degree line\n",
    "    plt.plot([min(matched_rslt1_profits + matched_rslt2_profits), max(matched_rslt1_profits + matched_rslt2_profits)], \n",
    "         [min(matched_rslt1_profits + matched_rslt2_profits), max(matched_rslt1_profits + matched_rslt2_profits)], \n",
    "         color='red', linestyle='--', linewidth=1)\n",
    "    plt.show()\n",
    "\n",
    "    # Histogram of profits for matched cases\n",
    "    plt.hist(matched_rslt1_profits, alpha=0.5, label=name_1)\n",
    "    plt.hist(matched_rslt2_profits, alpha=0.5, label=name_2)\n",
    "    plt.xlabel(\"Profits\")\n",
    "    plt.ylabel(\"Frequency\")\n",
    "    plt.legend()\n",
    "    plt.title(f\"Histogram of Matched {name_1} and {name_2} Profits\")\n",
    "    plt.show()\n",
    "\n",
    "    # Boxplot of profits for matched cases\n",
    "    plt.boxplot([matched_rslt1_profits, matched_rslt2_profits], labels=[name_1, name_2])\n",
    "    plt.ylabel(\"Profits\")\n",
    "    plt.title(f\"Boxplot of Matched {name_1} and {name_2} Profits\")\n",
    "    plt.show()"
   ]
  },
  {
   "cell_type": "code",
   "execution_count": 5,
   "metadata": {},
   "outputs": [],
   "source": [
    "# plot day index X for MPC, LP, DP and FB\n",
    "def plot_one_day(day_index, mpc_results, lp_results, dp_results, fb_results):\n",
    "    # look for corresponding index in these results\n",
    "    for i, rr in enumerate(mpc_results):\n",
    "        if rr.day_index == day_index:\n",
    "            mpc_index = i\n",
    "            break\n",
    "    for i, rr in enumerate(lp_results):\n",
    "        if rr.day_index == day_index:\n",
    "            lp_index = i\n",
    "            break\n",
    "    for i, rr in enumerate(dp_results):\n",
    "        if rr.day_index == day_index:\n",
    "            dp_index = i\n",
    "            break\n",
    "    for i, rr in enumerate(fb_results):\n",
    "        if rr.day_index == day_index:\n",
    "            fb_index = i\n",
    "            break\n",
    "    # plot storage level and price\n",
    "    hr = range(0, 4)\n",
    "    fig, ax1 = plt.subplots(figsize=(16, 8))\n",
    "    ax1.plot(hr, mpc_results[mpc_index].storage_levels, label=\"MPC storage level\", color='blue', marker='o')\n",
    "    ax1.plot(hr, lp_results[lp_index].storage_levels, label=\"LP storage level\", color='red', marker='x')\n",
    "    ax1.plot(hr, dp_results[dp_index].storage_levels, label=\"DP storage level\", color='orange', marker='*')\n",
    "    # ax1.plot(hr, fb_results[fb_index].storage_levels, label=\"FB storage level\", color='purple', linestyle='--')\n",
    "    ax2 = ax1.twinx()\n",
    "    ax2.plot(hr, mpc_results[mpc_index].price, label=\"price\", color='green')\n",
    "    # ax2.plot(hr, managed_lp_results[lp_index].price, label=\"price\", color='yellow')\n",
    "    ax1.set_xlabel('Hour')\n",
    "    ax1.set_ylabel('storage level')\n",
    "    ax2.set_ylabel('price')\n",
    "    ax1.legend(loc='upper left')\n",
    "    ax2.legend(loc='upper right')\n",
    "    ax1.grid('both', axis='both', color='grey', linestyle=\"--\")\n",
    "    # print profit in a text box\n",
    "    props = dict(boxstyle='round', facecolor='wheat', alpha=0.5)\n",
    "    # textstr = f\"MPC profit: ${mpc_results[mpc_index].total_profit:.2f}\\nLP profit: ${lp_results[lp_index].total_profit:.2f}\\nDP profit: ${dp_results[dp_index].total_profit:.2f}\\nFB profit: ${fb_results[fb_index].total_profit:.2f}\"\n",
    "    textstr = f\"MPC profit: ${mpc_results[mpc_index].total_profit:.2f}\\nLP profit: ${lp_results[lp_index].total_profit:.2f}\\nDP profit: ${dp_results[dp_index].total_profit:.2f}\\n\"\n",
    "    ax1.text(0.45, 0.15, textstr, transform=ax1.transAxes, fontsize=14,\n",
    "            verticalalignment='top', bbox=props)\n",
    "    plt.title(f\"Day index {day_index}\")\n",
    "    plt.xticks(np.arange(0, 4, 5))\n",
    "    plt.show()"
   ]
  },
  {
   "cell_type": "code",
   "execution_count": 6,
   "metadata": {},
   "outputs": [],
   "source": [
    "## convert raw sequential results to daily results RunResult classes\n",
    "def seq_to_runresult(raw_results):\n",
    "    \"\"\"\n",
    "    function to translate raw results into RunResult classes\n",
    "    \"\"\"\n",
    "    # first divide into days and then translate\n",
    "    num_days = raw_results[0].shape[0]/4\n",
    "    # slice all five FB_results into days, then repackage into a tuple of 5 tuples of arrays\n",
    "    results_sequential = tuple(zip(*[np.split(raw_results[i], num_days) for i in range(5)]))\n",
    "    # add day_index to each day\n",
    "    results_sequential = [(results_sequential[i], i) for i in range(len(results_sequential))]\n",
    "    # translate into RunResult classes\n",
    "    results_sequential = translate_results(results_sequential)\n",
    "    return results_sequential"
   ]
  },
  {
   "cell_type": "markdown",
   "metadata": {},
   "source": [
    "# Import Results to Compare"
   ]
  },
  {
   "cell_type": "code",
   "execution_count": 68,
   "metadata": {},
   "outputs": [],
   "source": [
    "FB_results_sequential_raw = pickle.load(open(wd + \"\\\\Optimization_module\\\\test_results\\\\FB_sequential.pkl\", \"rb\"))\n",
    "LP_results_sequential_raw = pickle.load(open(wd + \"\\\\Optimization_module\\\\test_results\\\\LP_sequential_800_20_0_[10, 10, 20, 20]_5_NoRandom.pkl\", \"rb\"))\n",
    "MPC_results_sequential_raw = pickle.load(open(wd + \"\\\\Optimization_module\\\\test_results\\\\MPC_sequential_800_20_0_[10, 10, 20, 20]_5_NoRandom.pkl\", \"rb\"))\n",
    "DP_results_sequential_raw = pickle.load(open(wd + \"\\\\Optimization_module\\\\test_results\\\\DP_sequential_800_20_0_[10, 10, 20, 20]_5_NoRandom.pkl\", \"rb\"))"
   ]
  },
  {
   "cell_type": "code",
   "execution_count": 69,
   "metadata": {},
   "outputs": [],
   "source": [
    "FB_results_sequential = seq_to_runresult(FB_results_sequential_raw)\n",
    "LP_results_sequential = seq_to_runresult(LP_results_sequential_raw)\n",
    "MPC_results_sequential = seq_to_runresult(MPC_results_sequential_raw)\n",
    "DP_results_sequential = seq_to_runresult(DP_results_sequential_raw)"
   ]
  },
  {
   "cell_type": "code",
   "execution_count": null,
   "id": "ddab0d94",
   "metadata": {},
   "outputs": [],
   "source": [
    "## convert raw parallel results to RunResult classes\n",
    "MPC_results = []\n",
    "with open('Optimization_module/test_results/MPC_300_2023-10-31.pkl','rb') as file:\n",
    "    try:\n",
    "        while True:\n",
    "            MPC_results.append(pickle.load(file))\n",
    "    except EOFError:\n",
    "        pass  # No more items to read\n",
    "\n",
    "DP_results = []\n",
    "with open('Optimization_module/test_results/DP_300_2023-10-31.pkl','rb') as file:\n",
    "    try:\n",
    "        while True:\n",
    "            DP_results.append(pickle.load(file))\n",
    "    except EOFError:\n",
    "        pass  # No more items to read\n",
    "\n",
    "LP_results = []\n",
    "with open('Optimization_module/test_results/LP_300_2023-10-31.pkl','rb') as file:\n",
    "    try:\n",
    "        while True:\n",
    "            LP_results.append(pickle.load(file))\n",
    "    except EOFError:\n",
    "        pass  # No more items to read\n",
    "\n",
    "FB_results = []\n",
    "with open('Optimization_module/test_results/FB_300_2023-11-09.pkl','rb') as file:\n",
    "    try:\n",
    "        while True:\n",
    "            FB_results.append(pickle.load(file))\n",
    "    except EOFError:\n",
    "        pass  # No more items to read"
   ]
  },
  {
   "cell_type": "code",
   "execution_count": null,
   "id": "eeeddcc6",
   "metadata": {},
   "outputs": [],
   "source": [
    "managed_dp_results = translate_results(DP_results)\n",
    "managed_mpc_results = translate_results(MPC_results)\n",
    "managed_lp_results = translate_results(LP_results)\n",
    "managed_fb_results = translate_results(FB_results)"
   ]
  },
  {
   "cell_type": "markdown",
   "metadata": {},
   "source": [
    "# Comparisons"
   ]
  },
  {
   "cell_type": "code",
   "execution_count": null,
   "metadata": {},
   "outputs": [],
   "source": [
    "# double check that the results used the same set of day_index\n",
    "dp_dict = {rr.day_index: rr.total_profit for rr in managed_dp_results}\n",
    "mpc_dict = {rr.day_index: rr.total_profit for rr in managed_mpc_results}\n",
    "lp_dict = {rr.day_index: rr.total_profit for rr in managed_lp_results}\n",
    "fb_dict = {rr.day_index: rr.total_profit for rr in managed_fb_results}\n",
    "\n",
    "print(set(dp_dict.keys()) == set(mpc_dict.keys()))\n",
    "print(set(dp_dict.keys()) == set(lp_dict.keys()))\n",
    "print(set(dp_dict.keys()) == set(fb_dict.keys()))"
   ]
  },
  {
   "cell_type": "code",
   "execution_count": null,
   "metadata": {},
   "outputs": [],
   "source": [
    "# get set of day_index\n",
    "day_indices = set(dp_dict.keys())"
   ]
  },
  {
   "cell_type": "markdown",
   "metadata": {},
   "source": [
    "## Hypothesis Check"
   ]
  },
  {
   "cell_type": "code",
   "execution_count": null,
   "metadata": {},
   "outputs": [],
   "source": [
    "#### Hypothesis 1: for FB sequential and FB parallel, the profits should roughly be the same\n",
    "## 1.1: FB sequential always has b0=0 at the beginning of most days\n",
    "## 1.2: for the sampled days in FB parallel, the profits should be the same as FB sequential\n",
    "\n",
    "# 1.1\n",
    "# get all b0 values for FB sequential\n",
    "# since we are tracking end-of-period storage level, b0 is actually the storage level at the end of the previous day\n",
    "end_b_values = [rr.storage_levels[-1] for rr in FB_results_sequential]\n",
    "# find days when b0 is not 0\n",
    "nonzero_endb = [i for i, b0 in enumerate(end_b_values) if b0 != 0]\n",
    "print(f\"FB sequential storage level=0 at the end of {len(nonzero_endb)} out of {len(FB_results_sequential)} days, or {len(nonzero_endb)/len(FB_results_sequential)*100:.2f}% of the days.\")\n",
    "# print the day indices when b0 is not 0\n",
    "print(f\"Day indices when end-of-day storage level is not 0: {nonzero_endb}\")"
   ]
  },
  {
   "cell_type": "code",
   "execution_count": null,
   "metadata": {},
   "outputs": [],
   "source": [
    "# the direct comparison between FB sequential (days matched to FB parallel) and FB parallel\n",
    "# shows that the profits for FB parallel are lower than FB sequential\n",
    "# this is because FB parallel has a nonzero b0 at the beginning of each day\n",
    "\n",
    "# find the matched days in FB sequential results based on day_indices\n",
    "matched_FB_sequential = [rr for rr in FB_results_sequential if rr.day_index in day_indices]\n",
    "results_comparison(\"FB sequential\", matched_FB_sequential, \"FB parallel\", managed_fb_results)"
   ]
  },
  {
   "cell_type": "code",
   "execution_count": null,
   "metadata": {},
   "outputs": [],
   "source": [
    "# when we exclude the days when end-of-day storage level is 0 and the following day\n",
    "# the profits should be the same for FB sequential and FB parallel\n",
    "\n",
    "# get the day indices for the days to exclude\n",
    "exclude_days = nonzero_endb + [i+1 for i in nonzero_endb]\n",
    "# get the day indices for the days to include\n",
    "include_days = list(day_indices - set(exclude_days))\n",
    "# filtered FB sequential results\n",
    "filtered_FB_results_sequential = [rr for rr in FB_results_sequential if rr.day_index in include_days]\n",
    "# filtered FB parallel results\n",
    "filtered_FB_results = [rr for rr in managed_fb_results if rr.day_index in include_days]"
   ]
  },
  {
   "cell_type": "code",
   "execution_count": null,
   "metadata": {},
   "outputs": [],
   "source": [
    "# 1.2\n",
    "# compare profits between matched_FB_sequential and managed_fb_results\n",
    "results_comparison(\"FB_sequential\", filtered_FB_results_sequential, \"FB_parallel\", filtered_FB_results)"
   ]
  },
  {
   "cell_type": "code",
   "execution_count": null,
   "metadata": {},
   "outputs": [],
   "source": [
    "#### Hypothesis 2: DP should never underperform LP\n",
    "# loop through DP and LP total profit, find the cases where DP < LP\n",
    "dp_lp = []\n",
    "for i in day_indices:\n",
    "    if dp_dict[i] - lp_dict[i] < -1e-6:\n",
    "        dp_lp.append(i)\n",
    "print(f\"DP < LP: {dp_lp}\")\n",
    "print(f\"Out of {len(day_indices)} days, DP < LP for {len(dp_lp)} days, or {len(dp_lp)/len(day_indices)*100:.2f}% of the days.\")\n",
    "dp_lp = []\n",
    "for i in day_indices:\n",
    "    if dp_dict[i] - lp_dict[i] > 1e-6:\n",
    "        dp_lp.append(i)\n",
    "print(f\"DP > LP: {dp_lp}\")\n",
    "print(f\"Out of {len(day_indices)} days, DP > LP for {len(dp_lp)} days, or {len(dp_lp)/len(day_indices)*100:.2f}% of the days.\")"
   ]
  },
  {
   "cell_type": "markdown",
   "metadata": {},
   "source": [
    "Day 58 is likely due to the discretization in DP algorithm."
   ]
  },
  {
   "cell_type": "code",
   "execution_count": null,
   "metadata": {},
   "outputs": [],
   "source": [
    "# for day index = 5, plot storage level of DP and LP on the same plot, as well as the price\n",
    "day_index = 18\n",
    "# look for corresponding index in DP and LP results\n",
    "for i, rr in enumerate(managed_dp_results):\n",
    "    if rr.day_index == day_index:\n",
    "        dp_index = i\n",
    "        break\n",
    "for i, rr in enumerate(managed_lp_results):\n",
    "    if rr.day_index == day_index:\n",
    "        lp_index = i\n",
    "        break\n",
    "# plot storage level and price\n",
    "hr = range(0, 24)\n",
    "fig, ax1 = plt.subplots(figsize=(16, 8))\n",
    "ax1.plot(hr, managed_dp_results[dp_index].storage_levels, label=\"DP storage level\", color='blue')\n",
    "ax1.plot(hr, managed_lp_results[lp_index].storage_levels, label=\"LP storage level\", color='red')\n",
    "ax2 = ax1.twinx()\n",
    "ax2.plot(hr, managed_dp_results[dp_index].price, label=\"price\", color='green')\n",
    "ax2.plot(hr, managed_lp_results[lp_index].price, label=\"price\", color='yellow')\n",
    "ax1.set_xlabel('Hour')\n",
    "ax1.set_ylabel('storage level')\n",
    "ax2.set_ylabel('price')\n",
    "ax1.legend(loc='upper left')\n",
    "ax2.legend(loc='upper right')\n",
    "ax1.grid('both', axis='both', color='grey', linestyle=\"--\")\n",
    "plt.xticks(np.arange(0, 24, 5))\n",
    "plt.show()"
   ]
  },
  {
   "cell_type": "code",
   "execution_count": null,
   "metadata": {},
   "outputs": [],
   "source": [
    "#### Hypothesis 3: FB parallel should never underperform DP, LP, or MPC\n",
    "# loop through FB and DP total profit, find the cases where FB < DP\n",
    "fb_dp = []\n",
    "for i in day_indices:\n",
    "    if fb_dict[i] - dp_dict[i] < -1e-6:\n",
    "        fb_dp.append(i)\n",
    "print(f\"FB < DP: {fb_dp}\")\n",
    "print(f\"Out of {len(day_indices)} days, FB < DP for {len(fb_dp)} days, or {len(fb_dp)/len(day_indices)*100:.2f}% of the days.\")\n",
    "# loop through FB and LP total profit, find the cases where FB < LP\n",
    "fb_lp = []\n",
    "for i in day_indices:\n",
    "    if fb_dict[i] - lp_dict[i] < -1e-6:\n",
    "        fb_lp.append(i)\n",
    "print(f\"FB < LP: {fb_lp}\")\n",
    "print(f\"Out of {len(day_indices)} days, FB < LP for {len(fb_lp)} days, or {len(fb_lp)/len(day_indices)*100:.2f}% of the days.\")\n",
    "# loop through FB and MPC total profit, find the cases where FB < MPC\n",
    "fb_mpc = []\n",
    "for i in day_indices:\n",
    "    if fb_dict[i] - mpc_dict[i] < -1e-6:\n",
    "        fb_mpc.append(i)\n",
    "print(f\"FB < MPC: {fb_mpc}\")\n",
    "print(f\"Out of {len(day_indices)} days, FB < MPC for {len(fb_mpc)} days, or {len(fb_mpc)/len(day_indices)*100:.2f}% of the days.\")"
   ]
  },
  {
   "cell_type": "markdown",
   "metadata": {},
   "source": [
    "## Compare Models"
   ]
  },
  {
   "cell_type": "markdown",
   "metadata": {},
   "source": [
    "### Comparison between sequential & sample models"
   ]
  },
  {
   "cell_type": "code",
   "execution_count": null,
   "metadata": {},
   "outputs": [],
   "source": [
    "# total profit of LP sequential and LP parallel\n",
    "# first filter for the days that are in both LP sequential and LP parallel\n",
    "# then compare profits\n",
    "\n",
    "matched_LP_sequential = [rr for rr in LP_results_sequential if rr.day_index in day_indices]\n",
    "results_comparison(\"LP sequential\", matched_LP_sequential, \"FB parallel\", managed_lp_results)"
   ]
  },
  {
   "cell_type": "code",
   "execution_count": null,
   "metadata": {},
   "outputs": [],
   "source": [
    "matched_MPC_sequential = [rr for rr in MPC_results_sequential if rr.day_index in day_indices]\n",
    "results_comparison(\"LP sequential\", matched_MPC_sequential, \"FB parallel\", managed_mpc_results)"
   ]
  },
  {
   "cell_type": "code",
   "execution_count": null,
   "metadata": {},
   "outputs": [],
   "source": [
    "matched_DP_sequential = [rr for rr in DP_results_sequential if rr.day_index in day_indices]\n",
    "results_comparison(\"DP sequential\", matched_DP_sequential, \"FB parallel\", managed_dp_results)"
   ]
  },
  {
   "cell_type": "markdown",
   "metadata": {},
   "source": [
    "### Overall performance comparison"
   ]
  },
  {
   "cell_type": "code",
   "execution_count": 70,
   "metadata": {},
   "outputs": [
    {
     "name": "stdout",
     "output_type": "stream",
     "text": [
      "DP profit is 32.8569% lower than FB profit.\n",
      "LP profit is 33.4753% lower than FB profit.\n",
      "MPC profit is 33.4753% lower than FB profit.\n"
     ]
    }
   ],
   "source": [
    "########## for sequential models\n",
    "# compare avg daily profits for DP, LP, MPC, FB\n",
    "fb_avg_seq = np.mean([rr.total_profit for rr in FB_results_sequential])\n",
    "dp_avg_seq = np.mean([rr.total_profit for rr in DP_results_sequential])\n",
    "lp_avg_seq = np.mean([rr.total_profit for rr in LP_results_sequential])\n",
    "mpc_avg_seq = np.mean([rr.total_profit for rr in MPC_results_sequential])\n",
    "# compute profit percentage delta relative to FB\n",
    "fb_dp_seq_delta = (fb_avg_seq - dp_avg_seq)/fb_avg_seq\n",
    "fb_lp_seq_delta = (fb_avg_seq - lp_avg_seq)/fb_avg_seq\n",
    "fb_mpc_seq_delta = (fb_avg_seq - mpc_avg_seq)/fb_avg_seq\n",
    "print(f\"DP profit is {fb_dp_seq_delta*100:.4f}% lower than FB profit.\")\n",
    "print(f\"LP profit is {fb_lp_seq_delta*100:.4f}% lower than FB profit.\")\n",
    "print(f\"MPC profit is {fb_mpc_seq_delta*100:.4f}% lower than FB profit.\")"
   ]
  },
  {
   "cell_type": "code",
   "execution_count": null,
   "metadata": {},
   "outputs": [],
   "source": [
    "########## for sampled days\n",
    "# compare avg daily profits between FB parallel and DP, LP, MPC\n",
    "fb_avg = np.sum([rr.total_profit for rr in managed_fb_results])\n",
    "dp_avg = np.sum([rr.total_profit for rr in managed_dp_results])\n",
    "lp_avg = np.sum([rr.total_profit for rr in managed_lp_results])\n",
    "mpc_avg = np.sum([rr.total_profit for rr in managed_mpc_results])\n",
    "# compute profit percentage delta using FB as baseline\n",
    "dp_delta = (dp_avg - fb_avg)/fb_avg\n",
    "lp_delta = (lp_avg - fb_avg)/fb_avg\n",
    "mpc_delta = (mpc_avg - fb_avg)/fb_avg\n",
    "print(f\"DP profit is {dp_delta*100:.4f}% higher than FB profit.\")\n",
    "print(f\"LP profit is {lp_delta*100:.4f}% higher than FB profit.\")\n",
    "print(f\"MPC profit is {mpc_delta*100:.4f}% higher than FB profit.\")"
   ]
  },
  {
   "cell_type": "code",
   "execution_count": 62,
   "metadata": {},
   "outputs": [
    {
     "data": {
      "text/plain": [
       "-2.926069519598136"
      ]
     },
     "execution_count": 62,
     "metadata": {},
     "output_type": "execute_result"
    }
   ],
   "source": [
    "dp_avg_seq"
   ]
  },
  {
   "cell_type": "code",
   "execution_count": 61,
   "metadata": {},
   "outputs": [
    {
     "data": {
      "text/plain": [
       "-3.6125757604605493"
      ]
     },
     "execution_count": 61,
     "metadata": {},
     "output_type": "execute_result"
    }
   ],
   "source": [
    "lp_avg_seq"
   ]
  },
  {
   "cell_type": "code",
   "execution_count": 71,
   "metadata": {},
   "outputs": [
    {
     "data": {
      "text/plain": [
       "0.9295928597010963"
      ]
     },
     "execution_count": 71,
     "metadata": {},
     "output_type": "execute_result"
    }
   ],
   "source": [
    "(dp_avg_seq - lp_avg_seq)/abs(lp_avg_seq)*100"
   ]
  },
  {
   "cell_type": "markdown",
   "metadata": {},
   "source": [
    "### Why is MPC worse than LP?"
   ]
  },
  {
   "cell_type": "code",
   "execution_count": null,
   "metadata": {},
   "outputs": [],
   "source": [
    "results_comparison(\"MPC\", managed_mpc_results, \"LP\", managed_lp_results)"
   ]
  },
  {
   "cell_type": "code",
   "execution_count": null,
   "metadata": {},
   "outputs": [],
   "source": [
    "# Find days when MPC < LP\n",
    "mpc_lp = []\n",
    "for i in day_indices:\n",
    "    if mpc_dict[i] - lp_dict[i] < -1e-6:\n",
    "        mpc_lp.append(i)\n",
    "print(f\"MPC < LP: {mpc_lp}\")\n",
    "print(f\"Out of {len(day_indices)} days, MPC < LP for {len(mpc_lp)} days, or {len(mpc_lp)/len(day_indices)*100:.2f}% of the days.\")\n",
    "\n",
    "# Find days when MPC > LP\n",
    "mpc_lp = []\n",
    "for i in day_indices:\n",
    "    if mpc_dict[i] - lp_dict[i] > 1e-6:\n",
    "        mpc_lp.append(i)\n",
    "print(f\"MPC > LP: {mpc_lp}\")\n",
    "print(f\"Out of {len(day_indices)} days, MPC > LP for {len(mpc_lp)} days, or {len(mpc_lp)/len(day_indices)*100:.2f}% of the days.\")"
   ]
  },
  {
   "cell_type": "code",
   "execution_count": null,
   "metadata": {},
   "outputs": [],
   "source": [
    "plot_one_day(57, managed_mpc_results, managed_lp_results, managed_dp_results, managed_fb_results)"
   ]
  },
  {
   "cell_type": "code",
   "execution_count": null,
   "metadata": {},
   "outputs": [],
   "source": [
    "plot_one_day(58, managed_mpc_results, managed_lp_results, managed_dp_results, managed_fb_results)"
   ]
  },
  {
   "cell_type": "markdown",
   "metadata": {},
   "source": [
    "### MPC vs. DP"
   ]
  },
  {
   "cell_type": "code",
   "execution_count": null,
   "metadata": {},
   "outputs": [],
   "source": [
    "# find days where MPC < DP\n",
    "mpc_dp = []\n",
    "for i in day_indices:\n",
    "    if mpc_dict[i] - dp_dict[i] < -1e-6:\n",
    "        mpc_dp.append(i)\n",
    "print(f\"MPC < DP: {mpc_dp}\")\n",
    "print(f\"Out of {len(day_indices)} days, MPC < DP for {len(mpc_dp)} days, or {len(mpc_dp)/len(day_indices)*100:.2f}% of the days.\")\n",
    "\n",
    "# find days where MPC > DP\n",
    "mpc_dp = []\n",
    "for i in day_indices:\n",
    "    if mpc_dict[i] - dp_dict[i] > 1e-6:\n",
    "        mpc_dp.append(i)\n",
    "print(f\"MPC > DP: {mpc_dp}\")\n",
    "print(f\"Out of {len(day_indices)} days, MPC > DP for {len(mpc_dp)} days, or {len(mpc_dp)/len(day_indices)*100:.2f}% of the days.\")"
   ]
  },
  {
   "cell_type": "code",
   "execution_count": null,
   "metadata": {},
   "outputs": [],
   "source": [
    "plot_one_day(13)"
   ]
  },
  {
   "cell_type": "markdown",
   "metadata": {},
   "source": [
    "### DP vs. LP"
   ]
  },
  {
   "cell_type": "code",
   "execution_count": null,
   "metadata": {},
   "outputs": [],
   "source": [
    "# find days where DP > LP\n",
    "dp_lp = []\n",
    "for i in day_indices:\n",
    "    if dp_dict[i] - lp_dict[i] > 1e-6:\n",
    "        dp_lp.append(i)\n",
    "print(f\"DP > LP: {dp_lp}\")\n",
    "print(f\"Out of {len(day_indices)} days, DP > LP for {len(dp_lp)} days, or {len(dp_lp)/len(day_indices)*100:.2f}% of the days.\")\n",
    "\n",
    "# find days where DP < LP\n",
    "dp_lp = []\n",
    "for i in day_indices:\n",
    "    if dp_dict[i] - lp_dict[i] < -1e-6:\n",
    "        dp_lp.append(i)\n",
    "print(f\"DP < LP: {dp_lp}\")\n",
    "print(f\"Out of {len(day_indices)} days, DP < LP for {len(dp_lp)} days, or {len(dp_lp)/len(day_indices)*100:.2f}% of the days.\")"
   ]
  },
  {
   "cell_type": "code",
   "execution_count": null,
   "metadata": {},
   "outputs": [],
   "source": [
    "plot_one_day(119, managed_mpc_results, managed_lp_results, managed_dp_results, managed_fb_results)"
   ]
  },
  {
   "cell_type": "code",
   "execution_count": 72,
   "metadata": {},
   "outputs": [
    {
     "name": "stdout",
     "output_type": "stream",
     "text": [
      "66\n"
     ]
    }
   ],
   "source": [
    "lp_profits = [rr.total_profit for rr in LP_results_sequential]\n",
    "dp_profits = [rr.total_profit for rr in DP_results_sequential]\n",
    "# find the day index where the two profit values are different\n",
    "for i in range(len(lp_profits)):\n",
    "    if abs(lp_profits[i] - dp_profits[i]) > 1e-3:\n",
    "        print(i)"
   ]
  },
  {
   "cell_type": "code",
   "execution_count": 73,
   "metadata": {},
   "outputs": [
    {
     "data": {
      "image/png": "[encoded data removed]",
      "text/plain": [
       "<Figure size 1600x800 with 2 Axes>"
      ]
     },
     "metadata": {},
     "output_type": "display_data"
    }
   ],
   "source": [
    "plot_one_day(66, MPC_results_sequential, LP_results_sequential, DP_results_sequential, FB_results_sequential)"
   ]
  },
  {
   "cell_type": "markdown",
   "metadata": {},
   "source": [
    "# DP vs. DP with Seasonality using synthetic data"
   ]
  },
  {
   "cell_type": "code",
   "execution_count": null,
   "metadata": {},
   "outputs": [],
   "source": [
    "# DP_w_season_ = pickle.load(open(wd + \"\\\\Optimization_module\\\\test_results\\\\synParam_MPC_sequential_2023-11-29.pkl\", \"rb\"))\n",
    "\n",
    "DP_sigma30 = pickle.load(open(wd + \"\\\\Optimization_module\\\\test_results\\\\DP_sequential_800_20_0_[10, 20, 20, 10]_30.pkl\", \"rb\"))\n",
    "# DP_sigma15 = pickle.load(open(wd + \"\\\\Optimization_module\\\\test_results\\\\DP_sequential_800_30_0_[0, 0, 0, 0]_15.pkl\", \"rb\"))\n",
    "# DP_sigma30 = pickle.load(open(wd + \"\\\\Optimization_module\\\\test_results\\\\DP_sequential_800_30_0_[0, 0, 0, 0]_30.pkl\", \"rb\"))"
   ]
  },
  {
   "cell_type": "code",
   "execution_count": null,
   "metadata": {},
   "outputs": [],
   "source": [
    "DP_sigma30"
   ]
  }
 ],
 "metadata": {
  "kernelspec": {
   "display_name": "Python 3 (ipykernel)",
   "language": "python",
   "name": "python3"
  },
  "language_info": {
   "codemirror_mode": {
    "name": "ipython",
    "version": 3
   },
   "file_extension": ".py",
   "mimetype": "text/x-python",
   "name": "python",
   "nbconvert_exporter": "python",
   "pygments_lexer": "ipython3",
   "version": "3.11.5"
  },
  "toc": {
   "base_numbering": 1,
   "nav_menu": {},
   "number_sections": true,
   "sideBar": true,
   "skip_h1_title": false,
   "title_cell": "Table of Contents",
   "title_sidebar": "Contents",
   "toc_cell": false,
   "toc_position": {},
   "toc_section_display": true,
   "toc_window_display": false
  }
 },
 "nbformat": 4,
 "nbformat_minor": 5
}
